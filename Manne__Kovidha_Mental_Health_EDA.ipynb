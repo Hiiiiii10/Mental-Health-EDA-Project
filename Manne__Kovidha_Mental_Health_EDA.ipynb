{
  "nbformat": 4,
  "nbformat_minor": 0,
  "metadata": {
    "colab": {
      "private_outputs": true,
      "provenance": [],
      "collapsed_sections": [
        "vncDsAP0Gaoa",
        "FJNUwmbgGyua",
        "w6K7xa23Elo4",
        "yQaldy8SH6Dl",
        "PH-0ReGfmX4f",
        "mDgbUHAGgjLW",
        "O_i_v8NEhb9l",
        "HhfV-JJviCcP",
        "Y3lxredqlCYt",
        "3RnN4peoiCZX",
        "x71ZqKXriCWQ",
        "7hBIi_osiCS2",
        "JlHwYmJAmNHm",
        "35m5QtbWiB9F",
        "PoPl-ycgm1ru",
        "H0kj-8xxnORC",
        "nA9Y7ga8ng1Z",
        "PBTbrJXOngz2",
        "u3PMJOP6ngxN",
        "dauF4eBmngu3",
        "bKJF3rekwFvQ",
        "MSa1f5Uengrz",
        "GF8Ens_Soomf",
        "0wOQAZs5pc--",
        "K5QZ13OEpz2H",
        "lQ7QKXXCp7Bj",
        "448CDAPjqfQr",
        "KSlN3yHqYklG",
        "t6dVpIINYklI",
        "ijmpgYnKYklI",
        "-JiQyfWJYklI",
        "EM7whBJCYoAo",
        "fge-S5ZAYoAp",
        "85gYPyotYoAp",
        "RoGjAbkUYoAp",
        "4Of9eVA-YrdM",
        "iky9q4vBYrdO",
        "F6T5p64dYrdO",
        "y-Ehk30pYrdP",
        "bamQiAODYuh1",
        "QHF8YVU7Yuh3",
        "GwzvFGzlYuh3",
        "qYpmQ266Yuh3",
        "OH-pJp9IphqM",
        "bbFf2-_FphqN",
        "_ouA3fa0phqN",
        "Seke61FWphqN",
        "PIIx-8_IphqN",
        "t27r6nlMphqO",
        "r2jJGEOYphqO",
        "b0JNsNcRphqO",
        "BZR9WyysphqO",
        "jj7wYXLtphqO",
        "eZrbJ2SmphqO",
        "rFu4xreNphqO",
        "YJ55k-q6phqO",
        "gCFgpxoyphqP",
        "OVtJsKN_phqQ",
        "lssrdh5qphqQ",
        "U2RJ9gkRphqQ",
        "1M8mcRywphqQ",
        "tgIPom80phqQ",
        "JMzcOPDDphqR",
        "x-EpHcCOp1ci",
        "X_VqEhTip1ck",
        "8zGJKyg5p1ck",
        "PVzmfK_Ep1ck",
        "n3dbpmDWp1ck",
        "ylSl6qgtp1ck",
        "ZWILFDl5p1ck",
        "M7G43BXep1ck",
        "Ag9LCva-p1cl",
        "E6MkPsBcp1cl",
        "2cELzS2fp1cl",
        "3MPXvC8up1cl",
        "NC_X3p0fY2L0",
        "UV0SzAkaZNRQ",
        "YPEH6qLeZNRQ",
        "q29F0dvdveiT",
        "EXh0U9oCveiU",
        "22aHeOlLveiV",
        "JcMwzZxoAimU",
        "8G2x9gOozGDZ",
        "gCX9965dhzqZ",
        "gIfDvo9L0UH2"
      ]
    },
    "kernelspec": {
      "name": "python3",
      "display_name": "Python 3"
    },
    "language_info": {
      "name": "python"
    }
  },
  "cells": [
    {
      "cell_type": "code",
      "source": [],
      "metadata": {
        "id": "I1apcow5dxii"
      },
      "execution_count": null,
      "outputs": []
    },
    {
      "cell_type": "markdown",
      "source": [
        "# **Project Name**    - Mental Health EDA Project\n",
        "\n"
      ],
      "metadata": {
        "id": "vncDsAP0Gaoa"
      }
    },
    {
      "cell_type": "markdown",
      "source": [
        "##### **Project Type**    - Cleaning data on excel and EDA\n",
        "##### **Contribution**    - Individual\n",
        "##### **By -** Manne Kovidha\n"
      ],
      "metadata": {
        "id": "beRrZCGUAJYm"
      }
    },
    {
      "cell_type": "markdown",
      "source": [
        "# **Project Summary -**"
      ],
      "metadata": {
        "id": "FJNUwmbgGyua"
      }
    },
    {
      "cell_type": "markdown",
      "source": [
        "This project focuses on analyzing mental health conditions among individuals working in the technology industry, using survey data collected from tech workers across various countries. The primary goal is to understand how mental health issues are distributed across demographic groups and how workplace environments affect an individual’s likelihood to seek help or receive support.\n",
        "\n",
        "The dataset includes variables like age, gender, country, work type (remote or not), company size, availability of mental health benefits, openness to mental health discussions, and whether individuals have sought treatment. With these factors, an Exploratory Data Analysis (EDA) was performed using Univariate, Bivariate, and Multivariate (UBM) techniques.\n",
        "\n",
        "Univariate analysis showed that most survey participants are between 25–35 years of age and predominantly male. Most respondents come from the United States, indicating that results may be more representative of Western workplace cultures. Many people have sought treatment for mental health issues, suggesting mental health problems are not rare in the tech industry.\n",
        "\n",
        "Bivariate analysis revealed how different variables interact. For instance, older individuals were more likely to seek treatment, and people who experienced interference in their work due to mental health were more likely to seek help. Gender also played a role — females and gender minorities showed slightly higher treatment-seeking behavior than males. People working in larger organizations reported better access to care options and benefits, while smaller companies often lacked these resources.\n",
        "\n",
        "Multivariate analysis deepened this understanding by looking at three or more variables at a time. For example, comparing age, gender, and treatment status helped reveal that younger males were less likely to seek treatment. A comparison of country, remote work status, and availability of mental health benefits showed big differences between countries, indicating that workplace mental health support is not consistent across regions.\n",
        "\n",
        "From a business perspective, this analysis highlights several important takeaways. Many employees are unsure whether their companies offer mental health benefits, which shows a gap in communication from employers. Supervisor and coworker support strongly influence whether someone feels safe talking about mental health. Companies that do not actively support employee well-being may face lower productivity, higher turnover, and a more stressed workforce.\n",
        "\n",
        "In conclusion, this EDA project helps us understand not only where mental health issues are most frequent but also which workplace factors encourage or discourage individuals from seeking help. Companies that take this data seriously can design better mental health policies, improve employee satisfaction, and promote a healthier work culture.\n",
        "\n"
      ],
      "metadata": {
        "id": "F6v_1wHtG2nS"
      }
    },
    {
      "cell_type": "markdown",
      "source": [
        "# **GitHub Link -**"
      ],
      "metadata": {
        "id": "w6K7xa23Elo4"
      }
    },
    {
      "cell_type": "markdown",
      "source": [
        "GitHub Link- Click here: https://github.com/Hiiiiii10/Mental-Health-EDA-Project"
      ],
      "metadata": {
        "id": "h1o69JH3Eqqn"
      }
    },
    {
      "cell_type": "markdown",
      "source": [
        "# **Problem Statement**\n"
      ],
      "metadata": {
        "id": "yQaldy8SH6Dl"
      }
    },
    {
      "cell_type": "markdown",
      "source": [
        "Mental health issues are rising in the tech industry, but many companies are unaware of how factors like geography, work culture, and support systems influence whether employees seek treatment or suffer silently. Without proper data, it’s difficult for employers to take informed action."
      ],
      "metadata": {
        "id": "DpeJGUA3kjGy"
      }
    },
    {
      "cell_type": "markdown",
      "source": [
        "#### **Define Your Business Objective?**"
      ],
      "metadata": {
        "id": "PH-0ReGfmX4f"
      }
    },
    {
      "cell_type": "markdown",
      "source": [
        "To identify patterns in mental health-related attitudes and behaviors among tech employees based on geographic and workplace variables, in order to help companies design better mental health policies and improve overall employee well-being."
      ],
      "metadata": {
        "id": "PhDvGCAqmjP1"
      }
    },
    {
      "cell_type": "markdown",
      "source": [
        "# **General Guidelines** : -  "
      ],
      "metadata": {
        "id": "mDgbUHAGgjLW"
      }
    },
    {
      "cell_type": "markdown",
      "source": [
        "1.   Well-structured, formatted, and commented code is required.\n",
        "2.   Exception Handling, Production Grade Code & Deployment Ready Code will be a plus. Those students will be awarded some additional credits.\n",
        "     \n",
        "     The additional credits will have advantages over other students during Star Student selection.\n",
        "       \n",
        "             [ Note: - Deployment Ready Code is defined as, the whole .ipynb notebook should be executable in one go\n",
        "                       without a single error logged. ]\n",
        "\n",
        "3.   Each and every logic should have proper comments.\n",
        "4. You may add as many number of charts you want. Make Sure for each and every chart the following format should be answered.\n",
        "        \n",
        "\n",
        "```\n",
        "# Chart visualization code\n",
        "```\n",
        "            \n",
        "\n",
        "*   Why did you pick the specific chart?\n",
        "*   What is/are the insight(s) found from the chart?\n",
        "* Will the gained insights help creating a positive business impact?\n",
        "Are there any insights that lead to negative growth? Justify with specific reason.\n",
        "\n",
        "5. You have to create at least 20 logical & meaningful charts having important insights.\n",
        "\n",
        "\n",
        "[ Hints : - Do the Vizualization in  a structured way while following \"UBM\" Rule.\n",
        "\n",
        "U - Univariate Analysis,\n",
        "\n",
        "B - Bivariate Analysis (Numerical - Categorical, Numerical - Numerical, Categorical - Categorical)\n",
        "\n",
        "M - Multivariate Analysis\n",
        " ]\n",
        "\n",
        "\n",
        "\n"
      ],
      "metadata": {
        "id": "ZrxVaUj-hHfC"
      }
    },
    {
      "cell_type": "markdown",
      "source": [
        "# ***Let's Begin !***"
      ],
      "metadata": {
        "id": "O_i_v8NEhb9l"
      }
    },
    {
      "cell_type": "markdown",
      "source": [
        "## ***1. Know Your Data***"
      ],
      "metadata": {
        "id": "HhfV-JJviCcP"
      }
    },
    {
      "cell_type": "markdown",
      "source": [
        "### Import Libraries"
      ],
      "metadata": {
        "id": "Y3lxredqlCYt"
      }
    },
    {
      "cell_type": "code",
      "source": [
        "# Import Libraries\n",
        "import pandas as pd\n",
        "import numpy as np\n",
        "import matplotlib.pyplot as plt\n",
        "import seaborn as sns\n",
        "\n",
        "url = \"https://raw.githubusercontent.com/Hiiiiii10/Mental-Health-EDA-Project/main/Mental%20Health%20Survey%20cleaned.csv\""
      ],
      "metadata": {
        "id": "M8Vqi-pPk-HR"
      },
      "execution_count": null,
      "outputs": []
    },
    {
      "cell_type": "markdown",
      "source": [
        "This step loads the dataset that I uploaded on Github along with this EDA File. This file has already been checked and cleaned in excel where the comments column has been removed, the genders have been looked for spelling errors and filtered according and the timestamp has been split into two seperate columns date and time. In addition duplicate values have also been adjusted."
      ],
      "metadata": {
        "id": "MHPy4Xdxyt9w"
      }
    },
    {
      "cell_type": "markdown",
      "source": [
        "### Dataset Loading"
      ],
      "metadata": {
        "id": "3RnN4peoiCZX"
      }
    },
    {
      "cell_type": "code",
      "source": [
        "# Load Dataset\n",
        "try:\n",
        "    df = pd.read_csv(\"https://raw.githubusercontent.com/Hiiiiii10/Mental-Health-EDA-Project/main/Mental%20Health%20Survey%20cleaned.csv\")\n",
        "    print(\"Data loaded successfully.\")\n",
        "except Exception as e:\n",
        "    print(\"Error loading file:\", e)"
      ],
      "metadata": {
        "id": "4CkvbW_SlZ_R"
      },
      "execution_count": null,
      "outputs": []
    },
    {
      "cell_type": "markdown",
      "source": [
        "The dataset is loaded."
      ],
      "metadata": {
        "id": "9oTQ_HIyyy83"
      }
    },
    {
      "cell_type": "markdown",
      "source": [
        "### Dataset First View"
      ],
      "metadata": {
        "id": "x71ZqKXriCWQ"
      }
    },
    {
      "cell_type": "code",
      "source": [
        "# Dataset First Look\n",
        "df.head()"
      ],
      "metadata": {
        "id": "LWNFOSvLl09H"
      },
      "execution_count": null,
      "outputs": []
    },
    {
      "cell_type": "markdown",
      "source": [
        " This shows the first few records of the mental servey dataset. This dataset initially contains records of peoples' age, gender, country followed records related to mental health like whether a treatment has been taken or not."
      ],
      "metadata": {
        "id": "b_T5qUhszkeK"
      }
    },
    {
      "cell_type": "markdown",
      "source": [
        "### Dataset Rows & Columns count"
      ],
      "metadata": {
        "id": "7hBIi_osiCS2"
      }
    },
    {
      "cell_type": "code",
      "source": [
        "# Dataset Rows & Columns count\n",
        "df.shape"
      ],
      "metadata": {
        "id": "Kllu7SJgmLij"
      },
      "execution_count": null,
      "outputs": []
    },
    {
      "cell_type": "markdown",
      "source": [
        "Dataset Dimensions There are 1258 rows and 28 columns in the dataset(in the cleaned dataset)."
      ],
      "metadata": {
        "id": "N707gxHp0c5p"
      }
    },
    {
      "cell_type": "markdown",
      "source": [
        "### Dataset Information"
      ],
      "metadata": {
        "id": "JlHwYmJAmNHm"
      }
    },
    {
      "cell_type": "code",
      "source": [
        "# Dataset Info\n",
        "df.info()"
      ],
      "metadata": {
        "id": "e9hRXRi6meOf"
      },
      "execution_count": null,
      "outputs": []
    },
    {
      "cell_type": "markdown",
      "source": [
        "The dataset contains many columns such timestamp, age and gender among other.\n",
        "This part shows the total cells that are not empty and their data types(except age all data types are object)."
      ],
      "metadata": {
        "id": "aqdm5jjz0krB"
      }
    },
    {
      "cell_type": "markdown",
      "source": [
        "#### Duplicate Values"
      ],
      "metadata": {
        "id": "35m5QtbWiB9F"
      }
    },
    {
      "cell_type": "code",
      "source": [
        "# Dataset Duplicate Value Count\n",
        "df.duplicated().sum()"
      ],
      "metadata": {
        "id": "1sLdpKYkmox0"
      },
      "execution_count": null,
      "outputs": []
    },
    {
      "cell_type": "markdown",
      "source": [
        "#### Missing Values/Null Values"
      ],
      "metadata": {
        "id": "PoPl-ycgm1ru"
      }
    },
    {
      "cell_type": "code",
      "source": [
        "# Missing Values/Null Values Count\n",
        "df.isnull().sum()"
      ],
      "metadata": {
        "id": "GgHWkxvamxVg"
      },
      "execution_count": null,
      "outputs": []
    },
    {
      "cell_type": "code",
      "source": [
        "# Visualizing the missing values\n",
        "missing_values = df.isnull().sum()\n",
        "\n",
        "# Columns with missing data\n",
        "print(\"🧾 Missing Values Summary:\")\n",
        "print(missing_values[missing_values > 0])\n",
        "\n",
        "# Plot missing values using seaborn heatmap\n",
        "import seaborn as sns\n",
        "import matplotlib.pyplot as plt\n",
        "\n",
        "plt.figure(figsize=(10,6))\n",
        "sns.heatmap(df.isnull(), cbar=False, cmap='Reds', yticklabels=False)\n",
        "plt.title(\"Heatmap of Missing Values in Dataset\")\n",
        "plt.show()"
      ],
      "metadata": {
        "id": "3q5wnI3om9sJ"
      },
      "execution_count": null,
      "outputs": []
    },
    {
      "cell_type": "markdown",
      "source": [
        "### What did you know about your dataset?"
      ],
      "metadata": {
        "id": "H0kj-8xxnORC"
      }
    },
    {
      "cell_type": "markdown",
      "source": [
        "This dataset is from a 2014 survey conducted in the tech industry to understand attitudes toward mental health and the frequency of mental health disorders at the workplace. It includes demographic information, work conditions, and questions about mental health support, treatment, and stigma, helping explore how these factors influence mental health outcomes in tech environments."
      ],
      "metadata": {
        "id": "gfoNAAC-nUe_"
      }
    },
    {
      "cell_type": "markdown",
      "source": [
        "## ***2. Understanding Your Variables***"
      ],
      "metadata": {
        "id": "nA9Y7ga8ng1Z"
      }
    },
    {
      "cell_type": "code",
      "source": [
        "# Dataset Columns\n",
        "column_info = pd.DataFrame({\n",
        "    'Column Name': df.columns,\n",
        "    'Data Type': df.dtypes.values\n",
        "})\n",
        "\n",
        "column_info"
      ],
      "metadata": {
        "id": "j7xfkqrt5Ag5"
      },
      "execution_count": null,
      "outputs": []
    },
    {
      "cell_type": "code",
      "source": [
        "# Dataset Describe\n",
        "df.describe()"
      ],
      "metadata": {
        "id": "DnOaZdaE5Q5t"
      },
      "execution_count": null,
      "outputs": []
    },
    {
      "cell_type": "markdown",
      "source": [
        "### Variable Description"
      ],
      "metadata": {
        "id": "Esi0agj4_51S"
      }
    },
    {
      "cell_type": "markdown",
      "source": [
        "### Mental Health Survey Dataset\n",
        "\n",
        "| Variable                      | Description                                                                 |\n",
        "|------------------------------|-----------------------------------------------------------------------------|\n",
        "| `Timestamp`                  | Date and time the survey response was submitted.                           |\n",
        "| `Age`                        | Age of the respondent (in years).                                          |\n",
        "| `Gender`                     | Self-identified gender of the respondent.                                  |\n",
        "| `Country`                    | Country of residence.                                                      |\n",
        "| `state`                      | State or region (if applicable).                                           |\n",
        "| `self_employed`              | Whether the respondent is self-employed.                                   |\n",
        "| `family_history`             | Whether the respondent has a family history of mental illness.             |\n",
        "| `treatment`                  | Whether the respondent has sought treatment for mental health issues.      |\n",
        "| `work_interfere`             | How mental health issues interfere with work.                              |\n",
        "| `no_employees`               | Size of the company the respondent works for.                              |\n",
        "| `remote_work`                | Whether the respondent works remotely.                                     |\n",
        "| `tech_company`               | Whether the employer is a tech company.                                    |\n",
        "| `benefits`                   | Whether the employer provides mental health benefits.                      |\n",
        "| `care_options`               | Availability of mental health care options at the workplace.               |\n",
        "| `wellness_program`           | Whether a wellness program exists at the workplace.                        |\n",
        "| `seek_help`                  | Whether the employer encourages seeking mental health help.                |\n",
        "| `anonymity`                  | Whether anonymity is protected when seeking mental health help.            |\n",
        "| `leave`                      | Ease of taking leave for mental health reasons.                            |\n",
        "| `mental_health_consequence` | Perceived consequence of disclosing mental health issues at work.          |\n",
        "| `phys_health_consequence`   | Perceived consequence of disclosing physical health issues at work.        |\n",
        "| `coworkers`                  | Comfort discussing mental health with coworkers.                           |\n",
        "| `supervisor`                 | Comfort discussing mental health with supervisors.                         |\n",
        "| `mental_health_interview`   | Willingness to discuss mental health in a job interview.                   |\n",
        "| `phys_health_interview`     | Willingness to discuss physical health in a job interview.                 |\n",
        "| `mental_vs_physical`        | Belief about how mental and physical health are valued comparatively.      |\n",
        "| `obs_consequence`           | Observed negative consequences of discussing mental health at the workplace.|\n",
        "| `comments`                  | Open-ended additional comments from the respondent (optional).             |"
      ],
      "metadata": {
        "id": "37bKRfBsAQ62"
      }
    },
    {
      "cell_type": "markdown",
      "source": [
        "### Check Unique Values for each variable."
      ],
      "metadata": {
        "id": "u3PMJOP6ngxN"
      }
    },
    {
      "cell_type": "code",
      "source": [
        "# Check Unique Values for each variable.\n",
        "for col in df.columns:\n",
        "    print(f\"\\nUnique values in '{col}':\")\n",
        "    print(df[col].unique())"
      ],
      "metadata": {
        "id": "zms12Yq5n-jE"
      },
      "execution_count": null,
      "outputs": []
    },
    {
      "cell_type": "markdown",
      "source": [
        "**Unique Values for Each Variable**\n",
        "\n",
        "After cleaning the data, the number of unique values of gender is four: Male, Female, Other and Unknown."
      ],
      "metadata": {
        "id": "ZwUcgnPEAq-D"
      }
    },
    {
      "cell_type": "markdown",
      "source": [
        "## 3. ***Data Wrangling***"
      ],
      "metadata": {
        "id": "dauF4eBmngu3"
      }
    },
    {
      "cell_type": "markdown",
      "source": [
        "### Data Wrangling Code"
      ],
      "metadata": {
        "id": "bKJF3rekwFvQ"
      }
    },
    {
      "cell_type": "code",
      "source": [
        "# Clean column names\n",
        "df.columns = df.columns.str.strip().str.lower().str.replace(\" \", \"_\")\n",
        "\n",
        "df['age'] = pd.to_numeric(df['age'].astype(str).str.strip(), errors='coerce')\n",
        "\n",
        "\n",
        "# Remove ages outside 15 to 100\n",
        "df = df[(df['age'] >= 15) & (df['age'] <= 100)]\n",
        "\n",
        "# Row count after\n",
        "print(\"After removing outliers:\", df.shape)\n",
        "\n",
        "# Summary stats\n",
        "print(df['age'].describe())\n",
        "\n",
        "# Check raw age values\n",
        "print(\"Unique raw age values:\")\n",
        "print(df['age'].unique())"
      ],
      "metadata": {
        "id": "wk-9a2fpoLcV"
      },
      "execution_count": null,
      "outputs": []
    },
    {
      "cell_type": "markdown",
      "source": [
        "This data wrngling code removes the rows where there ar outliers as there are values such as -1 to 999 which are realistic and therefore should be excluded from the analysis. We can see the unique values where 9999 and negative values are not included wherein they are present in the unique values code earlier therefore this has been corrected.\n",
        "The cleaning of the gender data has already been performed on the excel and therefore it is correctly standardized into four main genders such Male, Female, Other and Unknown."
      ],
      "metadata": {
        "id": "cASaZD2HE4JK"
      }
    },
    {
      "cell_type": "markdown",
      "source": [
        "### What all manipulations have you done and insights you found?"
      ],
      "metadata": {
        "id": "MSa1f5Uengrz"
      }
    },
    {
      "cell_type": "markdown",
      "source": [
        "**Cleaned the age column**\n",
        "\n",
        "➤ Converted all age values to numeric format using pd.to_numeric() after stripping spaces and special characters.\n",
        "\n",
        "➤ Removed rows where age was unrealistic (outside the 15–100 range), including negative and corrupted entries.\n",
        "\n",
        "**Cleaned the gender column**\n",
        "\n",
        "➤ Mapped inconsistent gender entries (e.g., \"M\", \"maile\", \"cis male\", \"F\", \"femail\", etc.) into standard categories: Male, Female, Other, and Unknown."
      ],
      "metadata": {
        "id": "LbyXE7I1olp8"
      }
    },
    {
      "cell_type": "markdown",
      "source": [
        "## ***4. Data Vizualization, Storytelling & Experimenting with charts : Understand the relationships between variables***"
      ],
      "metadata": {
        "id": "GF8Ens_Soomf"
      }
    },
    {
      "cell_type": "markdown",
      "source": [
        "#### Chart - 1: Distribution of Age **(Univeriate Analysis: chart 1-8)**"
      ],
      "metadata": {
        "id": "0wOQAZs5pc--"
      }
    },
    {
      "cell_type": "code",
      "source": [
        "# Chart - 1 visualization code\n",
        "plt.figure(figsize=(8, 5))\n",
        "sns.histplot(df['age'], bins=30, kde=True)\n",
        "plt.title('Age Distribution of Respondents')\n",
        "plt.show()"
      ],
      "metadata": {
        "id": "7v_ESjsspbW7"
      },
      "execution_count": null,
      "outputs": []
    },
    {
      "cell_type": "markdown",
      "source": [
        "##### 1. Why did you pick the specific chart?"
      ],
      "metadata": {
        "id": "K5QZ13OEpz2H"
      }
    },
    {
      "cell_type": "markdown",
      "source": [
        "Histogram best visualizes a single continuous variable."
      ],
      "metadata": {
        "id": "XESiWehPqBRc"
      }
    },
    {
      "cell_type": "markdown",
      "source": [
        "##### 2. What is/are the insight(s) found from the chart?"
      ],
      "metadata": {
        "id": "lQ7QKXXCp7Bj"
      }
    },
    {
      "cell_type": "markdown",
      "source": [
        "Most respondents are aged 25–35, key workforce demographic."
      ],
      "metadata": {
        "id": "C_j1G7yiqdRP"
      }
    },
    {
      "cell_type": "markdown",
      "source": [
        "##### 3. Will the gained insights help creating a positive business impact?\n",
        "Are there any insights that lead to negative growth? Justify with specific reason."
      ],
      "metadata": {
        "id": "448CDAPjqfQr"
      }
    },
    {
      "cell_type": "markdown",
      "source": [
        "Suggests which age group to target for mental health initiatives."
      ],
      "metadata": {
        "id": "3cspy4FjqxJW"
      }
    },
    {
      "cell_type": "markdown",
      "source": [
        "#### Chart - 2: Gender Distribution"
      ],
      "metadata": {
        "id": "KSlN3yHqYklG"
      }
    },
    {
      "cell_type": "code",
      "source": [
        "# Chart - 2 visualization code\n",
        "plt.figure(figsize=(6, 4))\n",
        "sns.countplot(data=df, x='standardized_gender')\n",
        "plt.title('Gender Distribution')\n",
        "plt.xticks(rotation=45)\n",
        "plt.show()"
      ],
      "metadata": {
        "id": "R4YgtaqtYklH"
      },
      "execution_count": null,
      "outputs": []
    },
    {
      "cell_type": "markdown",
      "source": [
        "##### 1. Why did you pick the specific chart?"
      ],
      "metadata": {
        "id": "t6dVpIINYklI"
      }
    },
    {
      "cell_type": "markdown",
      "source": [
        "Countplot shows frequency of categorical values."
      ],
      "metadata": {
        "id": "5aaW0BYyYklI"
      }
    },
    {
      "cell_type": "markdown",
      "source": [
        "##### 2. What is/are the insight(s) found from the chart?"
      ],
      "metadata": {
        "id": "ijmpgYnKYklI"
      }
    },
    {
      "cell_type": "markdown",
      "source": [
        "Most respondents identify as male."
      ],
      "metadata": {
        "id": "PSx9atu2YklI"
      }
    },
    {
      "cell_type": "markdown",
      "source": [
        "##### 3. Will the gained insights help creating a positive business impact?\n",
        "Are there any insights that lead to negative growth? Justify with specific reason."
      ],
      "metadata": {
        "id": "-JiQyfWJYklI"
      }
    },
    {
      "cell_type": "markdown",
      "source": [
        "Programs must address gender disparities in awareness."
      ],
      "metadata": {
        "id": "BcBbebzrYklV"
      }
    },
    {
      "cell_type": "markdown",
      "source": [
        "#### Chart - 3: Country-wise Participation"
      ],
      "metadata": {
        "id": "EM7whBJCYoAo"
      }
    },
    {
      "cell_type": "code",
      "source": [
        "# Chart - 3 visualization code\n",
        "plt.figure(figsize=(10, 6))\n",
        "top_countries = df['country'].value_counts().nlargest(10)\n",
        "top_countries.plot(kind='bar')\n",
        "plt.title('Top 10 Respondent Countries')\n",
        "plt.ylabel('Number of Respondents')\n",
        "plt.show()"
      ],
      "metadata": {
        "id": "t6GMdE67YoAp"
      },
      "execution_count": null,
      "outputs": []
    },
    {
      "cell_type": "markdown",
      "source": [
        "##### 1. Why did you pick the specific chart?"
      ],
      "metadata": {
        "id": "fge-S5ZAYoAp"
      }
    },
    {
      "cell_type": "markdown",
      "source": [
        "Bar chart compares spread of clients acroos all the countries."
      ],
      "metadata": {
        "id": "5dBItgRVYoAp"
      }
    },
    {
      "cell_type": "markdown",
      "source": [
        "##### 2. What is/are the insight(s) found from the chart?"
      ],
      "metadata": {
        "id": "85gYPyotYoAp"
      }
    },
    {
      "cell_type": "markdown",
      "source": [
        "US dominates response pool followed by United Kingdon and Canada."
      ],
      "metadata": {
        "id": "4jstXR6OYoAp"
      }
    },
    {
      "cell_type": "markdown",
      "source": [
        "##### 3. Will the gained insights help creating a positive business impact?\n",
        "Are there any insights that lead to negative growth? Justify with specific reason."
      ],
      "metadata": {
        "id": "RoGjAbkUYoAp"
      }
    },
    {
      "cell_type": "markdown",
      "source": [
        "Insights may be skewed toward US work culture and therefore might not be accurate and relevant to other countries."
      ],
      "metadata": {
        "id": "zfJ8IqMcYoAp"
      }
    },
    {
      "cell_type": "code",
      "source": [
        "# Chart - 4 visualization code\n",
        "sns.countplot(x='treatment', data=df)\n",
        "plt.title('Have You Sought Mental Health Treatment?')\n",
        "plt.show()"
      ],
      "metadata": {
        "id": "irlUoxc8YrdO"
      },
      "execution_count": null,
      "outputs": []
    },
    {
      "cell_type": "markdown",
      "source": [
        "##### 1. Why did you pick the specific chart?"
      ],
      "metadata": {
        "id": "iky9q4vBYrdO"
      }
    },
    {
      "cell_type": "markdown",
      "source": [
        "Countplot shows binary response so its useful in this case because we have two responses yes or no."
      ],
      "metadata": {
        "id": "aJRCwT6DYrdO"
      }
    },
    {
      "cell_type": "markdown",
      "source": [
        "InsightMore than half have sought treatment."
      ],
      "metadata": {
        "id": "F6T5p64dYrdO"
      }
    },
    {
      "cell_type": "markdown",
      "source": [
        "Answer Here"
      ],
      "metadata": {
        "id": "Xx8WAJvtYrdO"
      }
    },
    {
      "cell_type": "markdown",
      "source": [
        "##### 3. Will the gained insights help creating a positive business impact?\n",
        "Are there any insights that lead to negative growth? Justify with specific reason."
      ],
      "metadata": {
        "id": "y-Ehk30pYrdP"
      }
    },
    {
      "cell_type": "markdown",
      "source": [
        "Answer Here"
      ],
      "metadata": {
        "id": "jLNxxz7MYrdP"
      }
    },
    {
      "cell_type": "markdown",
      "source": [
        "#### Chart - 4: Treatment History"
      ],
      "metadata": {
        "id": "bamQiAODYuh1"
      }
    },
    {
      "cell_type": "code",
      "source": [
        "# Chart - 5 visualization code\n",
        "sns.countplot(x='treatment', data=df)\n",
        "plt.title('Have You Sought Mental Health Treatment?')\n",
        "plt.show()"
      ],
      "metadata": {
        "id": "TIJwrbroYuh3"
      },
      "execution_count": null,
      "outputs": []
    },
    {
      "cell_type": "markdown",
      "source": [
        "##### 1. Why did you pick the specific chart?"
      ],
      "metadata": {
        "id": "QHF8YVU7Yuh3"
      }
    },
    {
      "cell_type": "markdown",
      "source": [
        "Countplot shows binary response so this is useful as the reponse has only two options yes or no."
      ],
      "metadata": {
        "id": "dcxuIMRPYuh3"
      }
    },
    {
      "cell_type": "markdown",
      "source": [
        "##### 2. What is/are the insight(s) found from the chart?"
      ],
      "metadata": {
        "id": "GwzvFGzlYuh3"
      }
    },
    {
      "cell_type": "markdown",
      "source": [
        " More than half have sought treatment."
      ],
      "metadata": {
        "id": "uyqkiB8YYuh3"
      }
    },
    {
      "cell_type": "markdown",
      "source": [
        "##### 3. Will the gained insights help creating a positive business impact?\n",
        "Are there any insights that lead to negative growth? Justify with specific reason."
      ],
      "metadata": {
        "id": "qYpmQ266Yuh3"
      }
    },
    {
      "cell_type": "markdown",
      "source": [
        "Indicates high need for support programs  because there are still half who have not considered or taken a treatment. No negative impact."
      ],
      "metadata": {
        "id": "_WtzZ_hCYuh4"
      }
    },
    {
      "cell_type": "markdown",
      "source": [
        "#### Chart - 5: Remote Work"
      ],
      "metadata": {
        "id": "kWV5Q8xwvANY"
      }
    },
    {
      "cell_type": "code",
      "source": [
        "# Chart - 5 visualization code\n",
        "sns.countplot(x='remote_work', data=df)\n",
        "plt.title('Do You Work Remotely?')\n",
        "plt.show()"
      ],
      "metadata": {
        "id": "hRGbIt6AvANZ"
      },
      "execution_count": null,
      "outputs": []
    },
    {
      "cell_type": "markdown",
      "source": [
        "##### 1. Why did you pick the specific chart?"
      ],
      "metadata": {
        "id": "SvHWS3rmvANZ"
      }
    },
    {
      "cell_type": "markdown",
      "source": [
        "Understand remote working status."
      ],
      "metadata": {
        "id": "20PBI5DWvANZ"
      }
    },
    {
      "cell_type": "markdown",
      "source": [
        "##### 2. What is/are the insight(s) found from the chart?"
      ],
      "metadata": {
        "id": "djlXTmvrvANZ"
      }
    },
    {
      "cell_type": "markdown",
      "source": [
        " Many work remotely."
      ],
      "metadata": {
        "id": "TGcTF9rhvANZ"
      }
    },
    {
      "cell_type": "markdown",
      "source": [
        "##### 3. Will the gained insights help creating a positive business impact?\n",
        "Are there any insights that lead to negative growth? Justify with specific reason."
      ],
      "metadata": {
        "id": "674CXF5xvANZ"
      }
    },
    {
      "cell_type": "markdown",
      "source": [
        "Remote mental health support is crucial. No negative impact."
      ],
      "metadata": {
        "id": "4_hhHTd-vANZ"
      }
    },
    {
      "cell_type": "markdown",
      "source": [
        "#### Chart - 6: Self-employed Status\n"
      ],
      "metadata": {
        "id": "OH-pJp9IphqM"
      }
    },
    {
      "cell_type": "code",
      "source": [
        "# Chart - 6 visualization code\n",
        "sns.countplot(x='self_employed', data=df)\n",
        "plt.title('Self-employed Status')\n",
        "plt.show()"
      ],
      "metadata": {
        "id": "kuRf4wtuphqN"
      },
      "execution_count": null,
      "outputs": []
    },
    {
      "cell_type": "markdown",
      "source": [
        "##### 1. Why did you pick the specific chart?"
      ],
      "metadata": {
        "id": "bbFf2-_FphqN"
      }
    },
    {
      "cell_type": "markdown",
      "source": [
        "Show employment type."
      ],
      "metadata": {
        "id": "loh7H2nzphqN"
      }
    },
    {
      "cell_type": "markdown",
      "source": [
        "##### 2. What is/are the insight(s) found from the chart?"
      ],
      "metadata": {
        "id": "_ouA3fa0phqN"
      }
    },
    {
      "cell_type": "markdown",
      "source": [
        "Few are self-employed."
      ],
      "metadata": {
        "id": "VECbqPI7phqN"
      }
    },
    {
      "cell_type": "markdown",
      "source": [
        "##### 3. Will the gained insights help creating a positive business impact?\n",
        "Are there any insights that lead to negative growth? Justify with specific reason."
      ],
      "metadata": {
        "id": "Seke61FWphqN"
      }
    },
    {
      "cell_type": "markdown",
      "source": [
        "Emphasizes importance of employer-led mental health policies."
      ],
      "metadata": {
        "id": "DW4_bGpfphqN"
      }
    },
    {
      "cell_type": "markdown",
      "source": [
        "#### Chart - 7: Mental Health Consequence at Work"
      ],
      "metadata": {
        "id": "PIIx-8_IphqN"
      }
    },
    {
      "cell_type": "code",
      "source": [
        "# Chart - 7 visualization code\n",
        "sns.countplot(x='mental_health_consequence', data=df)\n",
        "plt.title('Perceived Mental Health Consequence at Work')\n",
        "plt.xticks(rotation=45)\n",
        "plt.show()"
      ],
      "metadata": {
        "id": "lqAIGUfyphqO"
      },
      "execution_count": null,
      "outputs": []
    },
    {
      "cell_type": "markdown",
      "source": [
        "##### 1. Why did you pick the specific chart?"
      ],
      "metadata": {
        "id": "t27r6nlMphqO"
      }
    },
    {
      "cell_type": "markdown",
      "source": [
        "Understand perceived stigma."
      ],
      "metadata": {
        "id": "iv6ro40sphqO"
      }
    },
    {
      "cell_type": "markdown",
      "source": [
        "##### 2. What is/are the insight(s) found from the chart?"
      ],
      "metadata": {
        "id": "r2jJGEOYphqO"
      }
    },
    {
      "cell_type": "markdown",
      "source": [
        "Many fear consequences."
      ],
      "metadata": {
        "id": "Po6ZPi4hphqO"
      }
    },
    {
      "cell_type": "markdown",
      "source": [
        "##### 3. Will the gained insights help creating a positive business impact?\n",
        "Are there any insights that lead to negative growth? Justify with specific reason."
      ],
      "metadata": {
        "id": "b0JNsNcRphqO"
      }
    },
    {
      "cell_type": "markdown",
      "source": [
        " Reducing stigma can improve productivity. Ignoring it could hurt retention."
      ],
      "metadata": {
        "id": "xvSq8iUTphqO"
      }
    },
    {
      "cell_type": "markdown",
      "source": [
        "#### Chart - 8: Benefits Availability"
      ],
      "metadata": {
        "id": "BZR9WyysphqO"
      }
    },
    {
      "cell_type": "code",
      "source": [
        "# Chart - 8 visualization code\n",
        "sns.countplot(x='benefits', data=df)\n",
        "plt.title('Are Mental Health Benefits Provided by Employer?')\n",
        "plt.show()"
      ],
      "metadata": {
        "id": "TdPTWpAVphqO"
      },
      "execution_count": null,
      "outputs": []
    },
    {
      "cell_type": "markdown",
      "source": [
        "##### 1. Why did you pick the specific chart?"
      ],
      "metadata": {
        "id": "jj7wYXLtphqO"
      }
    },
    {
      "cell_type": "markdown",
      "source": [
        "Visualize benefit awareness."
      ],
      "metadata": {
        "id": "Ob8u6rCTphqO"
      }
    },
    {
      "cell_type": "markdown",
      "source": [
        "##### 2. What is/are the insight(s) found from the chart?"
      ],
      "metadata": {
        "id": "eZrbJ2SmphqO"
      }
    },
    {
      "cell_type": "markdown",
      "source": [
        "Many unsure."
      ],
      "metadata": {
        "id": "mZtgC_hjphqO"
      }
    },
    {
      "cell_type": "markdown",
      "source": [
        "##### 3. Will the gained insights help creating a positive business impact?\n",
        "Are there any insights that lead to negative growth? Justify with specific reason."
      ],
      "metadata": {
        "id": "rFu4xreNphqO"
      }
    },
    {
      "cell_type": "markdown",
      "source": [
        "Communication gap; unutilized resources. Potential for negative impact."
      ],
      "metadata": {
        "id": "ey_0qi68phqO"
      }
    },
    {
      "cell_type": "markdown",
      "source": [
        "#### Chart - 9: Age vs Treatment **(Bivariate Analysis: chart 9-16)**"
      ],
      "metadata": {
        "id": "YJ55k-q6phqO"
      }
    },
    {
      "cell_type": "code",
      "source": [
        "# Chart - 9 visualization code\n",
        "plt.figure(figsize=(8, 5))\n",
        "sns.boxplot(x='treatment', y='age', data=df)\n",
        "plt.title('Age Distribution by Treatment Seeking')\n",
        "plt.show()"
      ],
      "metadata": {
        "id": "B2aS4O1ophqO"
      },
      "execution_count": null,
      "outputs": []
    },
    {
      "cell_type": "markdown",
      "source": [
        "##### 1. Why did you pick the specific chart?"
      ],
      "metadata": {
        "id": "gCFgpxoyphqP"
      }
    },
    {
      "cell_type": "markdown",
      "source": [
        " Boxplot compares distribution across categories."
      ],
      "metadata": {
        "id": "TVxDimi2phqP"
      }
    },
    {
      "cell_type": "markdown",
      "source": [
        "##### 2. What is/are the insight(s) found from the chart?"
      ],
      "metadata": {
        "id": "OVtJsKN_phqQ"
      }
    },
    {
      "cell_type": "markdown",
      "source": [
        "Older respondents more likely to seek treatment from ages between 27-38."
      ],
      "metadata": {
        "id": "ngGi97qjphqQ"
      }
    },
    {
      "cell_type": "markdown",
      "source": [
        "##### 3. Will the gained insights help creating a positive business impact?\n",
        "Are there any insights that lead to negative growth? Justify with specific reason."
      ],
      "metadata": {
        "id": "lssrdh5qphqQ"
      }
    },
    {
      "cell_type": "markdown",
      "source": [
        "Design campaigns for younger workers. Ignoring them risks long-term issues."
      ],
      "metadata": {
        "id": "tBpY5ekJphqQ"
      }
    },
    {
      "cell_type": "markdown",
      "source": [
        "#### Chart - 10: Gender vs Treatment"
      ],
      "metadata": {
        "id": "U2RJ9gkRphqQ"
      }
    },
    {
      "cell_type": "code",
      "source": [
        "# Chart - 10 visualization code\n",
        "sns.countplot(data=df, x='standardized_gender', hue='treatment')\n",
        "plt.title('Treatment Seeking by Gender')\n",
        "plt.xticks(rotation=45)\n",
        "plt.show()"
      ],
      "metadata": {
        "id": "GM7a4YP4phqQ"
      },
      "execution_count": null,
      "outputs": []
    },
    {
      "cell_type": "markdown",
      "source": [
        "##### 1. Why did you pick the specific chart?"
      ],
      "metadata": {
        "id": "1M8mcRywphqQ"
      }
    },
    {
      "cell_type": "markdown",
      "source": [
        " Compare treatment by gender."
      ],
      "metadata": {
        "id": "8agQvks0phqQ"
      }
    },
    {
      "cell_type": "markdown",
      "source": [
        "##### 2. What is/are the insight(s) found from the chart?"
      ],
      "metadata": {
        "id": "tgIPom80phqQ"
      }
    },
    {
      "cell_type": "markdown",
      "source": [
        "Females more open to treatment than men."
      ],
      "metadata": {
        "id": "Qp13pnNzphqQ"
      }
    },
    {
      "cell_type": "markdown",
      "source": [
        "##### 3. Will the gained insights help creating a positive business impact?\n",
        "Are there any insights that lead to negative growth? Justify with specific reason."
      ],
      "metadata": {
        "id": "JMzcOPDDphqR"
      }
    },
    {
      "cell_type": "markdown",
      "source": [
        "Gender-sensitive outreach can improve participation."
      ],
      "metadata": {
        "id": "R4Ka1PC2phqR"
      }
    },
    {
      "cell_type": "markdown",
      "source": [
        "#### Chart - 11: Country vs Treatment (Top 5)"
      ],
      "metadata": {
        "id": "x-EpHcCOp1ci"
      }
    },
    {
      "cell_type": "code",
      "source": [
        "# Chart - 11 visualization code\n",
        "top5 = df['country'].value_counts().nlargest(5).index\n",
        "sns.countplot(data=df[df['country'].isin(top5)], x='country', hue='treatment')\n",
        "plt.title('Treatment Seeking by Country (Top 5)')\n",
        "plt.xticks(rotation=45)\n",
        "plt.show()"
      ],
      "metadata": {
        "id": "mAQTIvtqp1cj"
      },
      "execution_count": null,
      "outputs": []
    },
    {
      "cell_type": "markdown",
      "source": [
        "##### 1. Why did you pick the specific chart?"
      ],
      "metadata": {
        "id": "X_VqEhTip1ck"
      }
    },
    {
      "cell_type": "markdown",
      "source": [
        "See treatment trends by geography."
      ],
      "metadata": {
        "id": "-vsMzt_np1ck"
      }
    },
    {
      "cell_type": "markdown",
      "source": [
        "##### 2. What is/are the insight(s) found from the chart?"
      ],
      "metadata": {
        "id": "8zGJKyg5p1ck"
      }
    },
    {
      "cell_type": "markdown",
      "source": [
        "Different cultures may affect openness. In United States there are significantly more people who are open to treatment compared to othr countries in top 5."
      ],
      "metadata": {
        "id": "ZYdMsrqVp1ck"
      }
    },
    {
      "cell_type": "markdown",
      "source": [
        "##### 3. Will the gained insights help creating a positive business impact?\n",
        "Are there any insights that lead to negative growth? Justify with specific reason."
      ],
      "metadata": {
        "id": "PVzmfK_Ep1ck"
      }
    },
    {
      "cell_type": "markdown",
      "source": [
        "Helps localize mental health campaigns."
      ],
      "metadata": {
        "id": "druuKYZpp1ck"
      }
    },
    {
      "cell_type": "markdown",
      "source": [
        "#### Chart - 12: Work Interference vs Treatment\n"
      ],
      "metadata": {
        "id": "n3dbpmDWp1ck"
      }
    },
    {
      "cell_type": "code",
      "source": [
        "# Chart - 12 visualization code\n",
        "sns.countplot(x='work_interfere', hue='treatment', data=df)\n",
        "plt.title('Work Interference vs Treatment')\n",
        "plt.xticks(rotation=45)\n",
        "plt.show()"
      ],
      "metadata": {
        "id": "bwevp1tKp1ck"
      },
      "execution_count": null,
      "outputs": []
    },
    {
      "cell_type": "markdown",
      "source": [
        "##### 1. Why did you pick the specific chart?"
      ],
      "metadata": {
        "id": "ylSl6qgtp1ck"
      }
    },
    {
      "cell_type": "markdown",
      "source": [
        "Explore cause-effect of how work influences treatment."
      ],
      "metadata": {
        "id": "m2xqNkiQp1ck"
      }
    },
    {
      "cell_type": "markdown",
      "source": [
        "##### 2. What is/are the insight(s) found from the chart?"
      ],
      "metadata": {
        "id": "ZWILFDl5p1ck"
      }
    },
    {
      "cell_type": "markdown",
      "source": [
        "Higher interference means more treatment."
      ],
      "metadata": {
        "id": "x-lUsV2mp1ck"
      }
    },
    {
      "cell_type": "markdown",
      "source": [
        "##### 3. Will the gained insights help creating a positive business impact?\n",
        "Are there any insights that lead to negative growth? Justify with specific reason."
      ],
      "metadata": {
        "id": "M7G43BXep1ck"
      }
    },
    {
      "cell_type": "markdown",
      "source": [
        "Shows ROI of addressing interference early."
      ],
      "metadata": {
        "id": "5wwDJXsLp1cl"
      }
    },
    {
      "cell_type": "markdown",
      "source": [
        "#### Chart - 13: Remote Work vs Benefits"
      ],
      "metadata": {
        "id": "Ag9LCva-p1cl"
      }
    },
    {
      "cell_type": "code",
      "source": [
        "# Chart - 13 visualization code\n",
        "sns.countplot(x='remote_work', hue='benefits', data=df)\n",
        "plt.title('Remote Work vs Mental Health Benefits')\n",
        "plt.show()"
      ],
      "metadata": {
        "id": "EUfxeq9-p1cl"
      },
      "execution_count": null,
      "outputs": []
    },
    {
      "cell_type": "markdown",
      "source": [
        "##### 1. Why did you pick the specific chart?"
      ],
      "metadata": {
        "id": "E6MkPsBcp1cl"
      }
    },
    {
      "cell_type": "markdown",
      "source": [
        "Compare remote work with benefits."
      ],
      "metadata": {
        "id": "V22bRsFWp1cl"
      }
    },
    {
      "cell_type": "markdown",
      "source": [
        "##### 2. What is/are the insight(s) found from the chart?"
      ],
      "metadata": {
        "id": "2cELzS2fp1cl"
      }
    },
    {
      "cell_type": "markdown",
      "source": [
        "Many remote workers unsure about benefits."
      ],
      "metadata": {
        "id": "ozQPc2_Ip1cl"
      }
    },
    {
      "cell_type": "markdown",
      "source": [
        "##### 3. Will the gained insights help creating a positive business impact?\n",
        "Are there any insights that lead to negative growth? Justify with specific reason."
      ],
      "metadata": {
        "id": "3MPXvC8up1cl"
      }
    },
    {
      "cell_type": "markdown",
      "source": [
        "Highlights need for virtual HR engagement."
      ],
      "metadata": {
        "id": "GL8l1tdLp1cl"
      }
    },
    {
      "cell_type": "markdown",
      "source": [
        "#### Chart - 14 - Correlation Heatmap"
      ],
      "metadata": {
        "id": "NC_X3p0fY2L0"
      }
    },
    {
      "cell_type": "code",
      "source": [
        "# Correlation Heatmap visualization code\n",
        "numeric_cols = df.select_dtypes(include=['int64', 'float64']).columns\n",
        "plt.figure(figsize=(10, 8))\n",
        "sns.heatmap(df[numeric_cols].corr(), annot=True, cmap='coolwarm', fmt='.2f')\n",
        "plt.title('Correlation Heatmap of Numerical Features')\n",
        "plt.show()"
      ],
      "metadata": {
        "id": "xyC9zolEZNRQ"
      },
      "execution_count": null,
      "outputs": []
    },
    {
      "cell_type": "markdown",
      "source": [
        "##### 1. Why did you pick the specific chart?"
      ],
      "metadata": {
        "id": "UV0SzAkaZNRQ"
      }
    },
    {
      "cell_type": "markdown",
      "source": [
        "Understand correlation between numeric variables. This chart was included as it has been mentioned in the sample EDA already however there is not much use as age is the only numeric value present.\n",
        "\n"
      ],
      "metadata": {
        "id": "DVPuT8LYZNRQ"
      }
    },
    {
      "cell_type": "markdown",
      "source": [
        "##### 2. What is/are the insight(s) found from the chart?"
      ],
      "metadata": {
        "id": "YPEH6qLeZNRQ"
      }
    },
    {
      "cell_type": "markdown",
      "source": [
        "Shows relationships such as age and responses."
      ],
      "metadata": {
        "id": "bfSqtnDqZNRR"
      }
    },
    {
      "cell_type": "markdown",
      "source": [
        "#### Chart - 15: No. of Employees vs Care Options"
      ],
      "metadata": {
        "id": "CMmUixvB_Ki9"
      }
    },
    {
      "cell_type": "code",
      "source": [
        "# Chart - 15 visualization code\n",
        "plt.figure(figsize=(12, 5))\n",
        "sns.countplot(x='no_employees', hue='care_options', data=df)\n",
        "plt.title('Company Size vs Availability of Care Options')\n",
        "plt.xticks(rotation=45)\n",
        "plt.show()"
      ],
      "metadata": {
        "id": "ZaAyrpfz_Ki-"
      },
      "execution_count": null,
      "outputs": []
    },
    {
      "cell_type": "markdown",
      "source": [
        "##### 1. Why did you pick the specific chart?"
      ],
      "metadata": {
        "id": "J7PZ6d4f_Ki-"
      }
    },
    {
      "cell_type": "markdown",
      "source": [
        "Show correlation with org size."
      ],
      "metadata": {
        "id": "QSyvODfT_Ki-"
      }
    },
    {
      "cell_type": "markdown",
      "source": [
        "##### 2. What is/are the insight(s) found from the chart?"
      ],
      "metadata": {
        "id": "6ERxv2Ij_Ki-"
      }
    },
    {
      "cell_type": "markdown",
      "source": [
        "Bigger firms provide more options."
      ],
      "metadata": {
        "id": "H51CQuBM_Ki-"
      }
    },
    {
      "cell_type": "markdown",
      "source": [
        "##### 3. Will the gained insights help creating a positive business impact?\n",
        "Are there any insights that lead to negative growth? Justify with specific reason."
      ],
      "metadata": {
        "id": "XrUkkxEU_Ki-"
      }
    },
    {
      "cell_type": "markdown",
      "source": [
        "Small companies may need government/NGO support."
      ],
      "metadata": {
        "id": "nuGZ61LM_Ki-"
      }
    },
    {
      "cell_type": "markdown",
      "source": [
        "#### Chart - 16: Supervisor Support vs Seeking *Help*"
      ],
      "metadata": {
        "id": "aovMUdy0_Ma_"
      }
    },
    {
      "cell_type": "code",
      "source": [
        "# Chart - 16 visualization code\n",
        "sns.countplot(x='supervisor', hue='seek_help', data=df)\n",
        "plt.title('Supervisor Support vs Seeking Mental Health Help')\n",
        "plt.show()"
      ],
      "metadata": {
        "id": "m8ezesE1_Ma_"
      },
      "execution_count": null,
      "outputs": []
    },
    {
      "cell_type": "markdown",
      "source": [
        "##### 1. Why did you pick the specific chart?"
      ],
      "metadata": {
        "id": "nkTN04ZU_Ma_"
      }
    },
    {
      "cell_type": "markdown",
      "source": [
        "Analyze influence of leadership."
      ],
      "metadata": {
        "id": "QpDvQjHE_Ma_"
      }
    },
    {
      "cell_type": "markdown",
      "source": [
        "##### 2. What is/are the insight(s) found from the chart?"
      ],
      "metadata": {
        "id": "zNerr6u6_Ma_"
      }
    },
    {
      "cell_type": "markdown",
      "source": [
        "Having supportive supervisor leads to higher help-seeking."
      ],
      "metadata": {
        "id": "gxM4srPm_Ma_"
      }
    },
    {
      "cell_type": "markdown",
      "source": [
        "##### 3. Will the gained insights help creating a positive business impact?\n",
        "Are there any insights that lead to negative growth? Justify with specific reason."
      ],
      "metadata": {
        "id": "C6KC9ayF_Ma_"
      }
    },
    {
      "cell_type": "markdown",
      "source": [
        "Train managers to be mental-health friendly."
      ],
      "metadata": {
        "id": "EtRVOOze_Ma_"
      }
    },
    {
      "cell_type": "markdown",
      "source": [
        "#### Chart - 17: Age, Gender, and Treatment **(Multivariate Analysis: charts 17-20)**"
      ],
      "metadata": {
        "id": "x69kxbig_Nvs"
      }
    },
    {
      "cell_type": "code",
      "source": [
        "# Chart - 17 visualization code\n",
        "plt.figure(figsize=(10, 6))\n",
        "sns.boxplot(x='standardized_gender', y='age', hue='treatment', data=df)\n",
        "plt.title('Age and Gender vs Treatment Seeking')\n",
        "plt.xticks(rotation=45)\n",
        "plt.show()"
      ],
      "metadata": {
        "id": "UD1m6Cpe_Nvs"
      },
      "execution_count": null,
      "outputs": []
    },
    {
      "cell_type": "markdown",
      "source": [
        "##### 1. Why did you pick the specific chart?"
      ],
      "metadata": {
        "id": "QxyxQijy_Nvs"
      }
    },
    {
      "cell_type": "markdown",
      "source": [
        "Identify cross-demographic patterns."
      ],
      "metadata": {
        "id": "lgK5qVj-_Nvs"
      }
    },
    {
      "cell_type": "markdown",
      "source": [
        "##### 2. What is/are the insight(s) found from the chart?"
      ],
      "metadata": {
        "id": "OxAxMKip_Nvs"
      }
    },
    {
      "cell_type": "markdown",
      "source": [
        "Gender-age gaps in seeking help."
      ],
      "metadata": {
        "id": "e8ZoZ6J7_Nvs"
      }
    },
    {
      "cell_type": "markdown",
      "source": [
        "##### 3. Will the gained insights help creating a positive business impact?\n",
        "Are there any insights that lead to negative growth? Justify with specific reason."
      ],
      "metadata": {
        "id": "T06_VVhF_Nvs"
      }
    },
    {
      "cell_type": "markdown",
      "source": [
        "Refine initiatives by cohort."
      ],
      "metadata": {
        "id": "mHTV7ht8_Nvs"
      }
    },
    {
      "cell_type": "markdown",
      "source": [
        "#### Chart - 18 - Pair Plot"
      ],
      "metadata": {
        "id": "q29F0dvdveiT"
      }
    },
    {
      "cell_type": "code",
      "source": [
        "# Pair Plot visualization code\n",
        "sns.pairplot(df, vars=['age'], hue='treatment')\n",
        "plt.suptitle('Pair Plot of Age with Treatment Status', y=1.02)\n",
        "plt.show()"
      ],
      "metadata": {
        "id": "o58-TEIhveiU"
      },
      "execution_count": null,
      "outputs": []
    },
    {
      "cell_type": "markdown",
      "source": [
        "##### 1. Why did you pick the specific chart?"
      ],
      "metadata": {
        "id": "EXh0U9oCveiU"
      }
    },
    {
      "cell_type": "markdown",
      "source": [
        "Explore multivariate relationships."
      ],
      "metadata": {
        "id": "eMmPjTByveiU"
      }
    },
    {
      "cell_type": "markdown",
      "source": [
        "##### 2. What is/are the insight(s) found from the chart?"
      ],
      "metadata": {
        "id": "22aHeOlLveiV"
      }
    },
    {
      "cell_type": "markdown",
      "source": [
        "Visual check of how age and treatment interact across subgroups."
      ],
      "metadata": {
        "id": "uPQ8RGwHveiV"
      }
    },
    {
      "cell_type": "markdown",
      "source": [
        "#### Chart - 19: Mental vs Physical Consequences and Support"
      ],
      "metadata": {
        "id": "dEml5wAv_Pl6"
      }
    },
    {
      "cell_type": "code",
      "source": [
        "# Chart - 19 visualization code\n",
        "plt.figure(figsize=(10, 6))\n",
        "sns.countplot(x='mental_vs_physical', hue='mental_health_consequence', data=df)\n",
        "plt.title('Mental vs Physical Health Priority vs Consequences')\n",
        "plt.xticks(rotation=45)\n",
        "plt.show()"
      ],
      "metadata": {
        "id": "CZHz0XRd_Pl7"
      },
      "execution_count": null,
      "outputs": []
    },
    {
      "cell_type": "markdown",
      "source": [
        "##### 1. Why did you pick the specific chart?"
      ],
      "metadata": {
        "id": "VRA5QnJ__Pl7"
      }
    },
    {
      "cell_type": "markdown",
      "source": [
        "Compare attitudes and real-world effects."
      ],
      "metadata": {
        "id": "Vy3ktRxW_Pl7"
      }
    },
    {
      "cell_type": "markdown",
      "source": [
        "##### 2. What is/are the insight(s) found from the chart?"
      ],
      "metadata": {
        "id": "kAkHCRDW_Pl7"
      }
    },
    {
      "cell_type": "markdown",
      "source": [
        "Mental health seen as less prioritized."
      ],
      "metadata": {
        "id": "Oc-X1VHb_Pl7"
      }
    },
    {
      "cell_type": "markdown",
      "source": [
        "##### 3. Will the gained insights help creating a positive business impact?\n",
        "Are there any insights that lead to negative growth? Justify with specific reason."
      ],
      "metadata": {
        "id": "hnZDeiqy_Pl7"
      }
    },
    {
      "cell_type": "markdown",
      "source": [
        "Balanced HR messaging can help destigmatize mental illness."
      ],
      "metadata": {
        "id": "2LhrYdLt_Pl7"
      }
    },
    {
      "cell_type": "markdown",
      "source": [
        "#### Chart - 20: Work Interference vs Leave Policy"
      ],
      "metadata": {
        "id": "7994n9MW_QJO"
      }
    },
    {
      "cell_type": "code",
      "source": [
        "# Chart - 20 visualization code\n",
        "plt.figure(figsize=(10, 6))\n",
        "sns.countplot(data=df, x='work_interfere', hue='leave')\n",
        "plt.title('Work Interference vs Leave Policy')\n",
        "plt.xticks(rotation=45)\n",
        "plt.show()"
      ],
      "metadata": {
        "id": "Fpv0j6O7_QJO"
      },
      "execution_count": null,
      "outputs": []
    },
    {
      "cell_type": "markdown",
      "source": [
        "##### 1. Why did you pick the specific chart?"
      ],
      "metadata": {
        "id": "OiywCaFv_QJO"
      }
    },
    {
      "cell_type": "markdown",
      "source": [
        "Evaluate HR policy effectiveness."
      ],
      "metadata": {
        "id": "wWJHFZw5_QJO"
      }
    },
    {
      "cell_type": "markdown",
      "source": [
        "##### 2. What is/are the insight(s) found from the chart?"
      ],
      "metadata": {
        "id": "sjysz4KO_QJO"
      }
    },
    {
      "cell_type": "markdown",
      "source": [
        "Poor leave policies linked to higher interference."
      ],
      "metadata": {
        "id": "km7izlc2_QJO"
      }
    },
    {
      "cell_type": "markdown",
      "source": [
        "##### 3. Will the gained insights help creating a positive business impact?\n",
        "Are there any insights that lead to negative growth? Justify with specific reason."
      ],
      "metadata": {
        "id": "XqFJQu8X_QJO"
      }
    },
    {
      "cell_type": "markdown",
      "source": [
        "Reworking leave can reduce burnout."
      ],
      "metadata": {
        "id": "FrKJjifo_QJO"
      }
    },
    {
      "cell_type": "markdown",
      "source": [
        "## **5. Solution to Business Objective**"
      ],
      "metadata": {
        "id": "JcMwzZxoAimU"
      }
    },
    {
      "cell_type": "markdown",
      "source": [
        "#### What do you suggest the client to achieve Business Objective ?"
      ],
      "metadata": {
        "id": "8G2x9gOozGDZ"
      }
    },
    {
      "cell_type": "markdown",
      "source": [
        "**Better Awareness Programs:** Many employees are unsure if benefits are available. Employers must improve communication about mental health resources.\n",
        "\n",
        "**Training for Managers:** Supervisor support directly impacts employees’ comfort with discussing mental health. Train managers to create a safe space.\n",
        "\n",
        "**Country-specific Policies:** Since cultural differences exist, mental health programs should be tailored to regional needs and expectations.\n",
        "\n",
        "**Target Younger Workers:** Younger employees are less likely to seek help. Initiatives should focus on awareness and normalization within this group.\n",
        "\n",
        "**Support for Remote Workers:** As many employees work remotely, virtual mental health services should be strengthened."
      ],
      "metadata": {
        "id": "pASKb0qOza21"
      }
    },
    {
      "cell_type": "markdown",
      "source": [
        "# **Conclusion**"
      ],
      "metadata": {
        "id": "gCX9965dhzqZ"
      }
    },
    {
      "cell_type": "markdown",
      "source": [
        "This analysis shows that mental health issues are common in the tech industry, especially among young adults. Factors like supportive supervisors, clear mental health benefits, and country culture strongly affect whether people seek help. Many still fear negative consequences at work. To create a healthier workplace, companies should improve communication, reduce stigma, and offer targeted mental health support."
      ],
      "metadata": {
        "id": "Fjb1IsQkh3yE"
      }
    }
  ]
}